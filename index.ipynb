{
 "cells": [
  {
   "cell_type": "code",
   "execution_count": null,
   "metadata": {},
   "outputs": [],
   "source": []
  },
  {
   "cell_type": "markdown",
   "metadata": {},
   "source": [
    "# Properties of Dot Product - Lab\n",
    "\n",
    "## Introduction\n",
    "\n",
    "In this lab, you'll be practicing some interesting properties of a Dot Product-type matrix multiplication. Understanding these properties will become useful as you move forward with machine learning. The lab will require you to calculate results to provide a proof for these properties.\n",
    "\n",
    "## Objectives\n",
    "You will be able to:\n",
    "* Understand and analytically explain Distributive, Commutative and Associative properties of dot product\n",
    "\n",
    "## Instructions\n",
    "\n",
    "* For each property, create suitably sized matrices with random data and prove the equations \n",
    "* Ensure that size/dimension assumptions are met while performing calculations (you'll see errors otherwise)\n",
    "* Calculate the LHS and RHS for all equations and show if they are equal or not\n",
    "\n",
    "## Distributive Property - matrix multiplication is distributive\n",
    "\n",
    "### Prove that $A \\cdot (B+C) = (A \\cdot B + A \\cdot C) $"
   ]
  },
  {
   "cell_type": "code",
   "execution_count": null,
   "metadata": {},
   "outputs": [],
   "source": []
  },
  {
   "cell_type": "code",
   "execution_count": 1,
   "metadata": {},
   "outputs": [],
   "source": [
    "import numpy as np\n"
   ]
  },
  {
   "cell_type": "code",
   "execution_count": 2,
   "metadata": {},
   "outputs": [],
   "source": [
    "A = np.mat(np.random.randint(-100,100,[4,4]))\n",
    "B = np.mat(np.random.randint(-100,100,[4,4]))\n",
    "C = np.mat(np.random.randint(-100,100,[4,4]))\n"
   ]
  },
  {
   "cell_type": "code",
   "execution_count": 3,
   "metadata": {},
   "outputs": [
    {
     "name": "stdout",
     "output_type": "stream",
     "text": [
      "[[ 10402  -6742   4891   4779]\n",
      " [  4917   3869    652 -13668]\n",
      " [ 13753  -2261   8940    620]\n",
      " [-17257  -4945  -4065   7391]]\n",
      " \n",
      "[[ 10402  -6742   4891   4779]\n",
      " [  4917   3869    652 -13668]\n",
      " [ 13753  -2261   8940    620]\n",
      " [-17257  -4945  -4065   7391]]\n"
     ]
    }
   ],
   "source": [
    "print(np.matmul(A,(B+C)))\n",
    "print(' ')\n",
    "print(np.matmul(A,B)+np.matmul(A,C))"
   ]
  },
  {
   "cell_type": "markdown",
   "metadata": {},
   "source": [
    "## Associative Property - matrix multiplication is associative\n",
    "### Prove that $A \\cdot (B \\cdot C) = (A \\cdot B) \\cdot C $"
   ]
  },
  {
   "cell_type": "code",
   "execution_count": 4,
   "metadata": {
    "scrolled": true
   },
   "outputs": [
    {
     "name": "stdout",
     "output_type": "stream",
     "text": [
      "[[  -86324  -500466   798920   529570]\n",
      " [   38737   275097   527154  -919235]\n",
      " [ -350428   237698   447080  -912300]\n",
      " [ -779206   460752 -1197514    75710]]\n",
      " \n",
      "[[  -86324  -500466   798920   529570]\n",
      " [   38737   275097   527154  -919235]\n",
      " [ -350428   237698   447080  -912300]\n",
      " [ -779206   460752 -1197514    75710]]\n"
     ]
    }
   ],
   "source": [
    "print(A.dot(B.dot(C)))\n",
    "print(' ')\n",
    "print((A.dot(B)).dot(C))"
   ]
  },
  {
   "cell_type": "markdown",
   "metadata": {},
   "source": [
    "## Commutative Property - matrix multiplication is NOT commutative\n",
    "### Prove that for matrices, $A \\cdot B \\neq B \\cdot A $"
   ]
  },
  {
   "cell_type": "code",
   "execution_count": 7,
   "metadata": {},
   "outputs": [
    {
     "name": "stdout",
     "output_type": "stream",
     "text": [
      "[[  2258  -3650 -10745  11020]\n",
      " [  7306  -1758    878  -3891]\n",
      " [  8246  -1280   1785   -620]\n",
      " [ -2988  -5222   9027   2356]]\n",
      " \n",
      "[[ -4562  12312   -995   9063]\n",
      " [-12567   4802  19935  12228]\n",
      " [  1259  -3482  -6392  -1883]\n",
      " [ -5192   2902  -5425  10793]]\n",
      " \n",
      "[[  2258  -3650 -10745  11020]\n",
      " [  7306  -1758    878  -3891]\n",
      " [  8246  -1280   1785   -620]\n",
      " [ -2988  -5222   9027   2356]]\n",
      " \n",
      "[[ -4562  12312   -995   9063]\n",
      " [-12567   4802  19935  12228]\n",
      " [  1259  -3482  -6392  -1883]\n",
      " [ -5192   2902  -5425  10793]]\n"
     ]
    }
   ],
   "source": [
    "print(A.dot(B))\n",
    "print(' ')\n",
    "print(B.dot(A))\n",
    "print(' ')\n",
    "print(np.matmul(A,B))\n",
    "print(' ')\n",
    "print(np.matmul(B,A))"
   ]
  },
  {
   "cell_type": "markdown",
   "metadata": {},
   "source": [
    "## Commutative Property -  vector multiplication IS commutative\n",
    "### Prove that for vectors,  $x^T \\cdot y = y^T \\cdot x$\n",
    "Note: superscipt<sup>T</sup> denotes the transpose we saw earlier"
   ]
  },
  {
   "cell_type": "code",
   "execution_count": 8,
   "metadata": {},
   "outputs": [
    {
     "name": "stdout",
     "output_type": "stream",
     "text": [
      "[ -3   4  -6 -10  -8]\n",
      "[-6 -7  0 -4  1]\n"
     ]
    },
    {
     "data": {
      "text/plain": [
       "True"
      ]
     },
     "execution_count": 8,
     "metadata": {},
     "output_type": "execute_result"
    }
   ],
   "source": [
    "x = np.random.randint(-10,10, 5)\n",
    "y = np.random.randint(-10,10, 5)\n",
    "\n",
    "print(x)\n",
    "print(y)\n",
    "\n",
    "x.transpose().dot(y) == y.transpose().dot(x)\n"
   ]
  },
  {
   "cell_type": "code",
   "execution_count": 15,
   "metadata": {},
   "outputs": [
    {
     "name": "stdout",
     "output_type": "stream",
     "text": [
      "[[  -131 -12384    776  10584]\n",
      " [-10345   3699   6310  -2697]\n",
      " [ 11139   3504  -7884  -4004]\n",
      " [  3063  -3417  -1372   1993]]\n",
      " \n",
      "[[  -131 -10345  11139   3063]\n",
      " [-12384   3699   3504  -3417]\n",
      " [   776   6310  -7884  -1372]\n",
      " [ 10584  -2697  -4004   1993]]\n"
     ]
    }
   ],
   "source": [
    "\n",
    "\n",
    "print((A.transpose()).dot(B))\n",
    "print(\" \")\n",
    "print((B.transpose()).dot(A))\n"
   ]
  },
  {
   "cell_type": "code",
   "execution_count": 2,
   "metadata": {},
   "outputs": [],
   "source": [
    "import numpy as np"
   ]
  },
  {
   "cell_type": "markdown",
   "metadata": {},
   "source": [
    "## Simplification of the matrix product\n",
    "### Prove that $ (A \\cdot B)^T = B^T \\cdot A^T $"
   ]
  },
  {
   "cell_type": "code",
   "execution_count": 3,
   "metadata": {},
   "outputs": [
    {
     "data": {
      "text/plain": [
       "matrix([[ True,  True,  True,  True],\n",
       "        [ True,  True,  True,  True],\n",
       "        [ True,  True,  True,  True],\n",
       "        [ True,  True,  True,  True]])"
      ]
     },
     "execution_count": 3,
     "metadata": {},
     "output_type": "execute_result"
    }
   ],
   "source": [
    "A = np.mat(np.random.randint(-100,100,[4,4]))\n",
    "B = np.mat(np.random.randint(-100,100,[4,4]))\n",
    "C = np.mat(np.random.randint(-100,100,[4,4]))\n",
    "\n",
    "(A.dot(B)).transpose() == B.transpose().dot(A.transpose())"
   ]
  },
  {
   "cell_type": "markdown",
   "metadata": {},
   "source": [
    "## Summary \n",
    "\n",
    "You've seen enough matrix algebra by now to solve a problem of linear equations as you saw earlier. You'll now see how to do this next. "
   ]
  }
 ],
 "metadata": {
  "kernelspec": {
   "display_name": "Python 3",
   "language": "python",
   "name": "python3"
  },
  "language_info": {
   "codemirror_mode": {
    "name": "ipython",
    "version": 3
   },
   "file_extension": ".py",
   "mimetype": "text/x-python",
   "name": "python",
   "nbconvert_exporter": "python",
   "pygments_lexer": "ipython3",
   "version": "3.6.6"
  }
 },
 "nbformat": 4,
 "nbformat_minor": 2
}
